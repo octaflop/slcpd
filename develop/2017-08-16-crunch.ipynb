{
 "cells": [
  {
   "cell_type": "code",
   "execution_count": 1,
   "metadata": {
    "collapsed": true
   },
   "outputs": [],
   "source": [
    "%matplotlib inline\n",
    "import pandas as pd\n",
    "import numpy as np\n",
    "from pyproj import Proj, transform"
   ]
  },
  {
   "cell_type": "markdown",
   "metadata": {},
   "source": [
    "Set up our projections for the [Utah](http://www.spatialreference.org/ref/epsg/32043/) and [Web / GPS](http://www.spatialreference.org/ref/epsg/4326/) Projections"
   ]
  },
  {
   "cell_type": "code",
   "execution_count": 33,
   "metadata": {
    "collapsed": true
   },
   "outputs": [],
   "source": [
    "# utah central\n",
    "utc = Proj(init='epsg:32043', preserve_units=True)\n",
    "gps = Proj(init='epsg:4326', preserve_units=True)\n",
    "def convert_to_gps(row):\n",
    "    x = row['x-coordinate']\n",
    "    y = row['y-coordinate']\n",
    "    return transform(utc, gps, x, y)"
   ]
  },
  {
   "cell_type": "markdown",
   "metadata": {},
   "source": [
    "## 2016"
   ]
  },
  {
   "cell_type": "code",
   "execution_count": 34,
   "metadata": {
    "collapsed": true
   },
   "outputs": [],
   "source": [
    "df_2016 = pd.read_csv('../data/slcpd_calls_2016.csv')"
   ]
  },
  {
   "cell_type": "code",
   "execution_count": 35,
   "metadata": {},
   "outputs": [],
   "source": [
    "df_2016.columns = map(str.lower, df_2016.columns)\n",
    "df_2016.columns = map(str.strip, df_2016.columns)\n",
    "df_2016.rename(columns={\n",
    "    'x_coordinate': 'x-coordinate',\n",
    "    'y_coordiante': 'y-coordinate',\n",
    "    'city countil': 'city council'}, inplace=True)\n",
    "df_2016.drop('time cleared', axis=1, inplace=True)\n",
    "df_2016.drop('close type', axis=1, inplace=True)"
   ]
  },
  {
   "cell_type": "code",
   "execution_count": 36,
   "metadata": {
    "scrolled": true
   },
   "outputs": [
    {
     "name": "stdout",
     "output_type": "stream",
     "text": [
      "['case', 'date cleared', 'call description', 'location', 'police zone', 'police grid', 'city council', 'x-coordinate', 'y-coordinate']\n"
     ]
    }
   ],
   "source": [
    "check_columns = df_2016.columns.tolist()\n",
    "print(check_columns)"
   ]
  },
  {
   "cell_type": "code",
   "execution_count": 37,
   "metadata": {
    "collapsed": true
   },
   "outputs": [],
   "source": [
    "df_2016['x_gps_coords'], df_2016['y_gps_coords'] = zip(*df_2016.apply(convert_to_gps, axis=1))"
   ]
  },
  {
   "cell_type": "code",
   "execution_count": 38,
   "metadata": {},
   "outputs": [
    {
     "name": "stdout",
     "output_type": "stream",
     "text": [
      "['case', 'date cleared', 'call description', 'location', 'police zone', 'police grid', 'city council', 'x-coordinate', 'y-coordinate', 'x_gps_coords', 'y_gps_coords']\n"
     ]
    }
   ],
   "source": [
    "master_columns = df_2016.columns.tolist()\n",
    "print(master_columns)"
   ]
  },
  {
   "cell_type": "markdown",
   "metadata": {},
   "source": [
    "## 2015"
   ]
  },
  {
   "cell_type": "code",
   "execution_count": 39,
   "metadata": {},
   "outputs": [],
   "source": [
    "df_2015 = pd.read_csv('../data/slcpd_calls_2015.csv')"
   ]
  },
  {
   "cell_type": "code",
   "execution_count": 40,
   "metadata": {},
   "outputs": [
    {
     "name": "stdout",
     "output_type": "stream",
     "text": [
      "Index(['Call Number', 'Date Cleared', 'Call Reason',\n",
      "       'Location                                                                                      ',\n",
      "       'Close As', 'Police Zone', 'Police Grid', 'City Council',\n",
      "       'X Coordinate', 'Y Coordinate'],\n",
      "      dtype='object')\n"
     ]
    }
   ],
   "source": [
    "print(df_2015.columns)"
   ]
  },
  {
   "cell_type": "code",
   "execution_count": 41,
   "metadata": {},
   "outputs": [],
   "source": [
    "df_2015.columns = map(str.lower, df_2015.columns)\n",
    "df_2015.columns = map(str.strip, df_2015.columns)\n",
    "df_2015.rename(columns={\n",
    "    'call number': 'case',\n",
    "    'close as': 'close type',\n",
    "    'call reason': 'call description',\n",
    "    'x coordinate': 'x-coordinate',\n",
    "    'y coordinate': 'y-coordinate'}, inplace=True)\n",
    "df_2015.drop('close type', axis=1, inplace=True)"
   ]
  },
  {
   "cell_type": "code",
   "execution_count": 42,
   "metadata": {},
   "outputs": [
    {
     "name": "stdout",
     "output_type": "stream",
     "text": [
      "set()\n",
      "set()\n"
     ]
    }
   ],
   "source": [
    "checkset = set(check_columns)\n",
    "df_2015set = set(df_2015.columns.tolist())\n",
    "print(checkset.difference(df_2015set))\n",
    "print(df_2015set.difference(checkset))"
   ]
  },
  {
   "cell_type": "code",
   "execution_count": 43,
   "metadata": {
    "collapsed": true
   },
   "outputs": [],
   "source": [
    "df_2015['x_gps_coords'], df_2015['y_gps_coords'] = zip(*df_2015.apply(convert_to_gps, axis=1))"
   ]
  },
  {
   "cell_type": "markdown",
   "metadata": {},
   "source": [
    "## 2014"
   ]
  },
  {
   "cell_type": "code",
   "execution_count": 44,
   "metadata": {
    "collapsed": true
   },
   "outputs": [],
   "source": [
    "df_2014 = pd.read_csv('../data/slcpd_calls_2014.csv')"
   ]
  },
  {
   "cell_type": "code",
   "execution_count": 45,
   "metadata": {},
   "outputs": [
    {
     "name": "stdout",
     "output_type": "stream",
     "text": [
      "['case', 'date cleared', 'call description', 'location', 'police zone', 'police grid', 'city council', 'x-coordinate', 'y-coordinate']\n",
      "['CALL NUMBER', 'CLEAR DATE', 'CALL REASON', 'LOCATION                                                                                      ', 'CLEARED DESCRIPTION', 'POLICE ZONE', 'POLICE GRID', 'COUNCIL', 'X COORDINATE', 'Y COORDINATE']\n"
     ]
    }
   ],
   "source": [
    "print(check_columns)\n",
    "print(df_2014.columns.tolist())"
   ]
  },
  {
   "cell_type": "code",
   "execution_count": 48,
   "metadata": {},
   "outputs": [],
   "source": [
    "df_2014.columns = map(str.lower, df_2014.columns)\n",
    "df_2014.columns = map(str.strip, df_2014.columns)\n",
    "df_2014.rename(columns={\n",
    "    'call number': 'case',\n",
    "    'close as': 'close type',\n",
    "    'clear date': 'date cleared',\n",
    "    'call reason': 'call description',\n",
    "    'council': 'city council',\n",
    "    'x coordinate': 'x-coordinate',\n",
    "    'y coordinate': 'y-coordinate'}, inplace=True)\n",
    "df_2014.drop('cleared description', axis=1, inplace=True)"
   ]
  },
  {
   "cell_type": "code",
   "execution_count": 49,
   "metadata": {},
   "outputs": [
    {
     "name": "stdout",
     "output_type": "stream",
     "text": [
      "set()\n",
      "set()\n"
     ]
    }
   ],
   "source": [
    "checkset = set(check_columns)\n",
    "df_2014set = set(df_2014.columns.tolist())\n",
    "print(checkset.difference(df_2014set))\n",
    "print(df_2014set.difference(checkset))"
   ]
  },
  {
   "cell_type": "code",
   "execution_count": 50,
   "metadata": {
    "collapsed": true
   },
   "outputs": [],
   "source": [
    "df_2014['x_gps_coords'], df_2014['y_gps_coords'] = zip(*df_2014.apply(convert_to_gps, axis=1))"
   ]
  },
  {
   "cell_type": "markdown",
   "metadata": {},
   "source": [
    "## 2013"
   ]
  },
  {
   "cell_type": "code",
   "execution_count": 51,
   "metadata": {},
   "outputs": [],
   "source": [
    "df_2013 = pd.read_csv('../data/slcpd_calls_2013.csv')"
   ]
  },
  {
   "cell_type": "code",
   "execution_count": 56,
   "metadata": {
    "collapsed": true
   },
   "outputs": [],
   "source": [
    "df_2013.columns = map(str.lower, df_2013.columns)\n",
    "df_2013.columns = map(str.strip, df_2013.columns)\n",
    "df_2013['time cleared'] = np.nan\n",
    "df_2013.rename(columns={\n",
    "    'clear date': 'date cleared',\n",
    "    'call number': 'case',\n",
    "    'close description': 'close type',\n",
    "    'call reason': 'call description',\n",
    "    'council': 'city council',\n",
    "    'x coordinate': 'x-coordinate',\n",
    "    'y coordinate': 'y-coordinate'}, inplace=True)\n",
    "df_2013.drop('time cleared', axis=1, inplace=True)\n",
    "df_2013.drop('close type', axis=1, inplace=True)"
   ]
  },
  {
   "cell_type": "code",
   "execution_count": 57,
   "metadata": {},
   "outputs": [
    {
     "name": "stdout",
     "output_type": "stream",
     "text": [
      "set()\n",
      "set()\n"
     ]
    }
   ],
   "source": [
    "checkset = set(check_columns)\n",
    "df_2013set = set(df_2013.columns.tolist())\n",
    "print(checkset.difference(df_2013set))\n",
    "print(df_2013set.difference(checkset))"
   ]
  },
  {
   "cell_type": "code",
   "execution_count": 58,
   "metadata": {
    "collapsed": true
   },
   "outputs": [],
   "source": [
    "df_2013['x_gps_coords'], df_2013['y_gps_coords'] = zip(*df_2013.apply(convert_to_gps, axis=1))"
   ]
  },
  {
   "cell_type": "code",
   "execution_count": 59,
   "metadata": {
    "collapsed": true
   },
   "outputs": [],
   "source": [
    "df = pd.concat([df_2016, df_2015, df_2014, df_2013])"
   ]
  },
  {
   "cell_type": "code",
   "execution_count": 60,
   "metadata": {
    "collapsed": true
   },
   "outputs": [],
   "source": [
    "df.index = df['case']"
   ]
  },
  {
   "cell_type": "code",
   "execution_count": 61,
   "metadata": {},
   "outputs": [
    {
     "data": {
      "text/html": [
       "<div>\n",
       "<style>\n",
       "    .dataframe thead tr:only-child th {\n",
       "        text-align: right;\n",
       "    }\n",
       "\n",
       "    .dataframe thead th {\n",
       "        text-align: left;\n",
       "    }\n",
       "\n",
       "    .dataframe tbody tr th {\n",
       "        vertical-align: top;\n",
       "    }\n",
       "</style>\n",
       "<table border=\"1\" class=\"dataframe\">\n",
       "  <thead>\n",
       "    <tr style=\"text-align: right;\">\n",
       "      <th></th>\n",
       "      <th>case</th>\n",
       "      <th>date cleared</th>\n",
       "      <th>call description</th>\n",
       "      <th>location</th>\n",
       "      <th>police zone</th>\n",
       "      <th>police grid</th>\n",
       "      <th>city council</th>\n",
       "      <th>x-coordinate</th>\n",
       "      <th>y-coordinate</th>\n",
       "      <th>x_gps_coords</th>\n",
       "      <th>y_gps_coords</th>\n",
       "    </tr>\n",
       "    <tr>\n",
       "      <th>case</th>\n",
       "      <th></th>\n",
       "      <th></th>\n",
       "      <th></th>\n",
       "      <th></th>\n",
       "      <th></th>\n",
       "      <th></th>\n",
       "      <th></th>\n",
       "      <th></th>\n",
       "      <th></th>\n",
       "      <th></th>\n",
       "      <th></th>\n",
       "    </tr>\n",
       "  </thead>\n",
       "  <tbody>\n",
       "    <tr>\n",
       "      <th>SL2013205584</th>\n",
       "      <td>SL2013205584</td>\n",
       "      <td>01/01/2014 03:56:54 AM</td>\n",
       "      <td>TRAFFIC STOP</td>\n",
       "      <td>5XX S MAIN ST                                 ...</td>\n",
       "      <td>Z3</td>\n",
       "      <td>135</td>\n",
       "      <td>4</td>\n",
       "      <td>1891835.0</td>\n",
       "      <td>883395.0</td>\n",
       "      <td>-111.891179</td>\n",
       "      <td>40.757904</td>\n",
       "    </tr>\n",
       "    <tr>\n",
       "      <th>SL2013205578</th>\n",
       "      <td>SL2013205578</td>\n",
       "      <td>01/01/2014 06:03:21 AM</td>\n",
       "      <td>THEFT FROM VEHICLE INVESTIGATION</td>\n",
       "      <td>2XX W SOUTH TEMPLE ST                         ...</td>\n",
       "      <td>Z3</td>\n",
       "      <td>132</td>\n",
       "      <td>3</td>\n",
       "      <td>1890213.0</td>\n",
       "      <td>887596.0</td>\n",
       "      <td>-111.897101</td>\n",
       "      <td>40.769415</td>\n",
       "    </tr>\n",
       "    <tr>\n",
       "      <th>SL2013205592</th>\n",
       "      <td>SL2013205592</td>\n",
       "      <td>01/01/2014 06:07:16 AM</td>\n",
       "      <td>TRAFFIC ACCIDENT - NO INJURIES</td>\n",
       "      <td>5XX S WEST TEMPLE ST                          ...</td>\n",
       "      <td>Z3</td>\n",
       "      <td>135</td>\n",
       "      <td>4</td>\n",
       "      <td>1891043.0</td>\n",
       "      <td>883527.0</td>\n",
       "      <td>-111.894040</td>\n",
       "      <td>40.758257</td>\n",
       "    </tr>\n",
       "    <tr>\n",
       "      <th>SL2013205280</th>\n",
       "      <td>SL2013205280</td>\n",
       "      <td>12/31/2013 03:53:33 PM</td>\n",
       "      <td>THEFT/LARCENY SUSPECT DETAINED</td>\n",
       "      <td>3XX W HOPE AVE                                ...</td>\n",
       "      <td>Z5</td>\n",
       "      <td>152</td>\n",
       "      <td>5</td>\n",
       "      <td>1889027.0</td>\n",
       "      <td>877008.0</td>\n",
       "      <td>-111.901211</td>\n",
       "      <td>40.740340</td>\n",
       "    </tr>\n",
       "    <tr>\n",
       "      <th>SL2013205165</th>\n",
       "      <td>SL2013205165</td>\n",
       "      <td>12/31/2013 08:04:09 AM</td>\n",
       "      <td>THEFT / INFORMATION</td>\n",
       "      <td>35XX W CALIFORNIA AVE                         ...</td>\n",
       "      <td>Z2</td>\n",
       "      <td>124</td>\n",
       "      <td>2</td>\n",
       "      <td>1868708.0</td>\n",
       "      <td>877149.0</td>\n",
       "      <td>-111.974535</td>\n",
       "      <td>40.740454</td>\n",
       "    </tr>\n",
       "  </tbody>\n",
       "</table>\n",
       "</div>"
      ],
      "text/plain": [
       "                      case            date cleared  \\\n",
       "case                                                 \n",
       "SL2013205584  SL2013205584  01/01/2014 03:56:54 AM   \n",
       "SL2013205578  SL2013205578  01/01/2014 06:03:21 AM   \n",
       "SL2013205592  SL2013205592  01/01/2014 06:07:16 AM   \n",
       "SL2013205280  SL2013205280  12/31/2013 03:53:33 PM   \n",
       "SL2013205165  SL2013205165  12/31/2013 08:04:09 AM   \n",
       "\n",
       "                              call description  \\\n",
       "case                                             \n",
       "SL2013205584                      TRAFFIC STOP   \n",
       "SL2013205578  THEFT FROM VEHICLE INVESTIGATION   \n",
       "SL2013205592    TRAFFIC ACCIDENT - NO INJURIES   \n",
       "SL2013205280    THEFT/LARCENY SUSPECT DETAINED   \n",
       "SL2013205165               THEFT / INFORMATION   \n",
       "\n",
       "                                                       location police zone  \\\n",
       "case                                                                          \n",
       "SL2013205584  5XX S MAIN ST                                 ...          Z3   \n",
       "SL2013205578  2XX W SOUTH TEMPLE ST                         ...          Z3   \n",
       "SL2013205592  5XX S WEST TEMPLE ST                          ...          Z3   \n",
       "SL2013205280  3XX W HOPE AVE                                ...          Z5   \n",
       "SL2013205165  35XX W CALIFORNIA AVE                         ...          Z2   \n",
       "\n",
       "             police grid city council  x-coordinate  y-coordinate  \\\n",
       "case                                                                \n",
       "SL2013205584         135            4     1891835.0      883395.0   \n",
       "SL2013205578         132            3     1890213.0      887596.0   \n",
       "SL2013205592         135            4     1891043.0      883527.0   \n",
       "SL2013205280         152            5     1889027.0      877008.0   \n",
       "SL2013205165         124            2     1868708.0      877149.0   \n",
       "\n",
       "              x_gps_coords  y_gps_coords  \n",
       "case                                      \n",
       "SL2013205584   -111.891179     40.757904  \n",
       "SL2013205578   -111.897101     40.769415  \n",
       "SL2013205592   -111.894040     40.758257  \n",
       "SL2013205280   -111.901211     40.740340  \n",
       "SL2013205165   -111.974535     40.740454  "
      ]
     },
     "execution_count": 61,
     "metadata": {},
     "output_type": "execute_result"
    }
   ],
   "source": [
    "df.tail()"
   ]
  },
  {
   "cell_type": "markdown",
   "metadata": {},
   "source": [
    "# Export"
   ]
  },
  {
   "cell_type": "code",
   "execution_count": null,
   "metadata": {
    "collapsed": true
   },
   "outputs": [],
   "source": [
    "df.to_csv('../data/SLC_Police_Calls_2013__2016_cleaned_geocoded.csv')"
   ]
  },
  {
   "cell_type": "code",
   "execution_count": null,
   "metadata": {
    "collapsed": true
   },
   "outputs": [],
   "source": []
  }
 ],
 "metadata": {
  "kernelspec": {
   "display_name": "Python 3",
   "language": "python",
   "name": "python3"
  },
  "language_info": {
   "codemirror_mode": {
    "name": "ipython",
    "version": 3
   },
   "file_extension": ".py",
   "mimetype": "text/x-python",
   "name": "python",
   "nbconvert_exporter": "python",
   "pygments_lexer": "ipython3",
   "version": "3.6.1"
  }
 },
 "nbformat": 4,
 "nbformat_minor": 2
}
